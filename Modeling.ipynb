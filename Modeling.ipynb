{
 "cells": [
  {
   "cell_type": "markdown",
   "metadata": {},
   "source": [
    "# Import Libraries"
   ]
  },
  {
   "cell_type": "code",
   "execution_count": 182,
   "metadata": {},
   "outputs": [],
   "source": [
    "import pandas as pd\n",
    "import matplotlib.pyplot as plt\n",
    "import seaborn as sns\n",
    "from keras.preprocessing.image import ImageDataGenerator\n",
    "from keras.callbacks import EarlyStopping\n",
    "import os\n",
    "import splitfolders\n",
    "import numpy as np\n",
    "from keras import models, layers\n",
    "from sklearn.dummy import DummyClassifier\n",
    "from sklearn.metrics import accuracy_score, confusion_matrix\n",
    "from keras import optimizers, losses\n",
    "import numpy as np"
   ]
  },
  {
   "cell_type": "markdown",
   "metadata": {},
   "source": [
    "# Obtain & Pre-Process Data"
   ]
  },
  {
   "cell_type": "markdown",
   "metadata": {},
   "source": [
    "Perform train test split on image folders for each class"
   ]
  },
  {
   "cell_type": "code",
   "execution_count": 2,
   "metadata": {},
   "outputs": [
    {
     "name": "stderr",
     "output_type": "stream",
     "text": [
      "Copying files: 2188 files [00:05, 369.07 files/s]\n"
     ]
    }
   ],
   "source": [
    "input_folder = 'Data/class_data'\n",
    "output_folder = 'Data/ttsplit_data'\n",
    "classes = ['paper', 'rock', 'scissors']\n",
    "\n",
    "splitfolders.ratio(input_folder, output=output_folder, seed=37, ratio=(.64, .2, .16))\n",
    "\n",
    "# train val test"
   ]
  },
  {
   "cell_type": "markdown",
   "metadata": {},
   "source": [
    "Determine batch size of images from all 3 classes"
   ]
  },
  {
   "cell_type": "code",
   "execution_count": 74,
   "metadata": {},
   "outputs": [
    {
     "name": "stdout",
     "output_type": "stream",
     "text": [
      "1399\n",
      "352\n",
      "437\n"
     ]
    }
   ],
   "source": [
    "train_folder = 'Data/ttsplit_data/train'\n",
    "test_folder = 'Data/ttsplit_data/test'\n",
    "val_folder = 'Data/ttsplit_data/val'\n",
    "classes = ['paper', 'rock', 'scissors']\n",
    "\n",
    "train_imgs = []\n",
    "test_imgs = []\n",
    "val_imgs = []\n",
    "\n",
    "for img_class in classes:\n",
    "    train_imgs.extend([file for file in os.listdir(train_folder+'/'+img_class) if file.endswith('.png')])\n",
    "    test_imgs.extend([file for file in os.listdir(test_folder+'/'+img_class) if file.endswith('.png')])\n",
    "    val_imgs.extend([file for file in os.listdir(val_folder+'/'+img_class) if file.endswith('.png')])\n",
    "    \n",
    "train_batch_size = len(train_imgs)\n",
    "test_batch_size = len(test_imgs)\n",
    "val_batch_size = len(val_imgs)\n",
    "\n",
    "print(train_batch_size)\n",
    "print(test_batch_size)\n",
    "print(val_batch_size)"
   ]
  },
  {
   "cell_type": "markdown",
   "metadata": {},
   "source": [
    "Generate data from the images"
   ]
  },
  {
   "cell_type": "code",
   "execution_count": 75,
   "metadata": {},
   "outputs": [
    {
     "name": "stdout",
     "output_type": "stream",
     "text": [
      "Found 1399 images belonging to 3 classes.\n",
      "Found 352 images belonging to 3 classes.\n",
      "Found 437 images belonging to 3 classes.\n"
     ]
    }
   ],
   "source": [
    "train_generator = ImageDataGenerator().flow_from_directory(\n",
    "                        output_folder+'/train', target_size=(300, 200), batch_size = train_batch_size)\n",
    "\n",
    "test_generator = ImageDataGenerator().flow_from_directory(\n",
    "                        output_folder+'/test', target_size=(300, 200), batch_size = test_batch_size) \n",
    "\n",
    "val_generator = ImageDataGenerator().flow_from_directory(\n",
    "                        output_folder+'/val', target_size=(300, 200), batch_size = val_batch_size) "
   ]
  },
  {
   "cell_type": "markdown",
   "metadata": {},
   "source": [
    "Split image data into image and label variables"
   ]
  },
  {
   "cell_type": "code",
   "execution_count": 76,
   "metadata": {},
   "outputs": [],
   "source": [
    "train_images, train_labels = next(train_generator)\n",
    "test_images, test_labels = next(test_generator)\n",
    "val_images, val_labels = next(val_generator)"
   ]
  },
  {
   "cell_type": "markdown",
   "metadata": {},
   "source": [
    "# Explore Data"
   ]
  },
  {
   "cell_type": "markdown",
   "metadata": {},
   "source": [
    "Calculate the shape of image data"
   ]
  },
  {
   "cell_type": "code",
   "execution_count": 38,
   "metadata": {},
   "outputs": [
    {
     "name": "stdout",
     "output_type": "stream",
     "text": [
      "Train images shape:  (1399, 300, 200, 3)\n",
      "Test images shape:  (352, 300, 200, 3)\n",
      "Val images shape:  (437, 300, 200, 3)\n"
     ]
    }
   ],
   "source": [
    "print('Train images shape: ', train_images.shape)\n",
    "print('Test images shape: ', test_images.shape)\n",
    "print('Val images shape: ', val_images.shape)"
   ]
  },
  {
   "cell_type": "markdown",
   "metadata": {},
   "source": [
    "Calculate shape of label data"
   ]
  },
  {
   "cell_type": "code",
   "execution_count": 39,
   "metadata": {},
   "outputs": [
    {
     "name": "stdout",
     "output_type": "stream",
     "text": [
      "Train labels shape:  (1399, 3)\n",
      "Test labels shape:  (352, 3)\n",
      "Val labels shape:  (437, 3)\n"
     ]
    }
   ],
   "source": [
    "print('Train labels shape: ', train_labels.shape)\n",
    "print('Test labels shape: ', test_labels.shape)\n",
    "print('Val labels shape: ', val_labels.shape)"
   ]
  },
  {
   "cell_type": "markdown",
   "metadata": {},
   "source": [
    "Calculate label class distribution"
   ]
  },
  {
   "cell_type": "code",
   "execution_count": 40,
   "metadata": {},
   "outputs": [
    {
     "name": "stdout",
     "output_type": "stream",
     "text": [
      "Train set class distribution\n",
      "0    0.325232\n",
      "1    0.331665\n",
      "2    0.343102\n",
      "dtype: float32\n",
      "Test set class distribution\n",
      "0    0.326705\n",
      "1    0.332386\n",
      "2    0.340909\n",
      "dtype: float32\n",
      "Val set class distribution\n",
      "0    0.324943\n",
      "1    0.331808\n",
      "2    0.343249\n",
      "dtype: float32\n",
      "Overall class distribution\n",
      "0    0.325411\n",
      "1    0.331810\n",
      "2    0.342779\n",
      "dtype: float32\n"
     ]
    }
   ],
   "source": [
    "train_labels_df = pd.DataFrame(train_labels)\n",
    "test_labels_df = pd.DataFrame(test_labels)\n",
    "val_labels_df = pd.DataFrame(val_labels)\n",
    "total_labels_df = pd.concat([train_labels_df, test_labels_df, val_labels_df], axis=0)\n",
    "\n",
    "\n",
    "print('Train set class distribution')\n",
    "print(train_labels_df.mean())\n",
    "\n",
    "print('Test set class distribution')\n",
    "print(test_labels_df.mean())\n",
    "\n",
    "print('Val set class distribution')\n",
    "print(val_labels_df.mean())\n",
    "\n",
    "print('Overall class distribution')\n",
    "print(total_labels_df.mean())"
   ]
  },
  {
   "cell_type": "markdown",
   "metadata": {},
   "source": [
    "Convert class data from dummy form to label encoded form"
   ]
  },
  {
   "cell_type": "code",
   "execution_count": 89,
   "metadata": {},
   "outputs": [],
   "source": [
    "def dedummy(label_list):\n",
    "    dedummy_list = []\n",
    "    for item in label_list:\n",
    "        if item[0] == 1:\n",
    "            dedummy_list.append(0)\n",
    "        elif item[1] == 1:\n",
    "            dedummy_list.append(1)\n",
    "        elif item[2] == 1:\n",
    "            dedummy_list.append(2)\n",
    "    return dedummy_list\n",
    "\n",
    "train_classes = dedummy(train_labels)\n",
    "test_classes = dedummy(test_labels)\n",
    "val_classes = dedummy(val_labels)"
   ]
  },
  {
   "cell_type": "markdown",
   "metadata": {},
   "source": [
    "Create countplot of image class distribution"
   ]
  },
  {
   "cell_type": "code",
   "execution_count": 115,
   "metadata": {},
   "outputs": [
    {
     "data": {
      "text/plain": [
       "[Text(0, 0, 'Paper'), Text(0, 0, 'Rock'), Text(0, 0, 'Scissors')]"
      ]
     },
     "execution_count": 115,
     "metadata": {},
     "output_type": "execute_result"
    },
    {
     "data": {
      "image/png": "[encoded data removed]",
      "text/plain": [
       "<Figure size 432x288 with 1 Axes>"
      ]
     },
     "metadata": {
      "needs_background": "light"
     },
     "output_type": "display_data"
    }
   ],
   "source": [
    "all_classes = train_classes + test_classes + val_classes\n",
    "all_classes_df = pd.DataFrame(all_classes, columns=['Class'])\n",
    "fig, ax = plt.subplots()\n",
    "sns.countplot(x='Class', data=all_classes_df, ax=ax)\n",
    "ax.set_title('Rock Paper Scissors Dataset Class Distribution')\n",
    "ax.set_ylabel('Count')\n",
    "ax.set_xticklabels(['Paper', 'Rock', 'Scissors'])"
   ]
  },
  {
   "cell_type": "markdown",
   "metadata": {},
   "source": [
    "# Model Data"
   ]
  },
  {
   "cell_type": "markdown",
   "metadata": {},
   "source": [
    "Build baseline dummy classifier model"
   ]
  },
  {
   "cell_type": "code",
   "execution_count": 119,
   "metadata": {},
   "outputs": [
    {
     "name": "stdout",
     "output_type": "stream",
     "text": [
      "Val Accuracy Score: 0.3318077803203661\n"
     ]
    }
   ],
   "source": [
    "x_train_dummy = [0]*len(train_classes)\n",
    "y_train_dummy = train_classes\n",
    "dc = DummyClassifier(strategy='stratified', random_state=84)\n",
    "dc.fit(x_train_dummy, y_train_dummy)\n",
    "y_val_pred_dc = dc.predict([0]*len(val_classes))\n",
    "print('Val Accuracy Score:', accuracy_score(val_classes, y_val_pred_dc))"
   ]
  },
  {
   "cell_type": "markdown",
   "metadata": {},
   "source": [
    "Build CNN"
   ]
  },
  {
   "cell_type": "code",
   "execution_count": 178,
   "metadata": {},
   "outputs": [],
   "source": [
    "model = models.Sequential()\n",
    "model.add(layers.Conv2D(32, (3, 3), activation='relu',\n",
    "                        input_shape=(300 ,200,  3)))\n",
    "model.add(layers.MaxPooling2D((2, 2)))\n",
    "\n",
    "model.add(layers.SpatialDropout2D(0.05))\n",
    "\n",
    "model.add(layers.Conv2D(32, (4, 4), activation='relu'))\n",
    "model.add(layers.MaxPooling2D((2, 2)))\n",
    "\n",
    "model.add(layers.SpatialDropout2D(0.05))\n",
    "\n",
    "model.add(layers.Conv2D(64, (3, 3), activation='relu'))\n",
    "model.add(layers.MaxPooling2D((2, 2)))\n",
    "\n",
    "model.add(layers.Flatten())\n",
    "model.add(layers.Dense(64, activation='relu'))\n",
    "model.add(layers.Dense(3, activation='softmax'))\n",
    "\n",
    "model.compile(loss='categorical_crossentropy',\n",
    "              optimizer='adam',\n",
    "              metrics=['acc'])"
   ]
  },
  {
   "cell_type": "markdown",
   "metadata": {},
   "source": [
    "Fit cnn model"
   ]
  },
  {
   "cell_type": "code",
   "execution_count": 179,
   "metadata": {},
   "outputs": [
    {
     "name": "stdout",
     "output_type": "stream",
     "text": [
      "Epoch 1/20\n",
      "44/44 [==============================] - 221s 5s/step - loss: 30.0438 - acc: 0.4432 - val_loss: 0.8840 - val_acc: 0.5767\n",
      "Epoch 2/20\n",
      "44/44 [==============================] - 153s 3s/step - loss: 0.6775 - acc: 0.7441 - val_loss: 0.3826 - val_acc: 0.8580\n",
      "Epoch 3/20\n",
      "44/44 [==============================] - 139s 3s/step - loss: 0.3623 - acc: 0.8792 - val_loss: 0.2786 - val_acc: 0.9119\n",
      "Epoch 4/20\n",
      "44/44 [==============================] - 132s 3s/step - loss: 0.2288 - acc: 0.9192 - val_loss: 0.2633 - val_acc: 0.9091\n",
      "Epoch 5/20\n",
      "44/44 [==============================] - 137s 3s/step - loss: 0.1688 - acc: 0.9450 - val_loss: 0.1780 - val_acc: 0.9403\n",
      "Epoch 6/20\n",
      "44/44 [==============================] - 139s 3s/step - loss: 0.1084 - acc: 0.9628 - val_loss: 0.1945 - val_acc: 0.9403\n",
      "Epoch 7/20\n",
      "44/44 [==============================] - 148s 3s/step - loss: 0.0735 - acc: 0.9764 - val_loss: 0.2091 - val_acc: 0.9403\n",
      "Epoch 00007: early stopping\n"
     ]
    }
   ],
   "source": [
    "es = EarlyStopping(monitor='val_loss', mode='min', verbose=1, patience=2)\n",
    "history = model.fit(train_images,\n",
    "                    train_labels,\n",
    "                    epochs=20,\n",
    "                    batch_size=32,\n",
    "                    validation_data=(test_images, test_labels),\n",
    "                    callbacks=[es])"
   ]
  },
  {
   "cell_type": "markdown",
   "metadata": {},
   "source": [
    "Evaluate CNN model"
   ]
  },
  {
   "cell_type": "code",
   "execution_count": 180,
   "metadata": {},
   "outputs": [
    {
     "name": "stdout",
     "output_type": "stream",
     "text": [
      "Val Accuracy Score: 0.9450800915331807\n"
     ]
    }
   ],
   "source": [
    "y_val_pred_nn = model.predict(val_images)\n",
    "print('Val Accuracy Score:', accuracy_score(np.argmax(val_labels, axis=1), np.argmax(y_val_pred_nn, axis=1)))"
   ]
  },
  {
   "cell_type": "markdown",
   "metadata": {},
   "source": [
    "Build CNN confusion matrix"
   ]
  },
  {
   "cell_type": "code",
   "execution_count": 184,
   "metadata": {},
   "outputs": [
    {
     "data": {
      "text/plain": [
       "[Text(0, 0.5, 'Paper'), Text(0, 1.5, 'Rock'), Text(0, 2.5, 'Scissors')]"
      ]
     },
     "execution_count": 184,
     "metadata": {},
     "output_type": "execute_result"
    },
    {
     "data": {
      "image/png": "[encoded data removed]",
      "text/plain": [
       "<Figure size 360x360 with 2 Axes>"
      ]
     },
     "metadata": {
      "needs_background": "light"
     },
     "output_type": "display_data"
    }
   ],
   "source": [
    "cm = confusion_matrix(np.argmax(val_labels, axis=1), np.argmax(y_val_pred_nn, axis=1))\n",
    "fig, ax = plt.subplots(figsize=(5,5))\n",
    "matrix = sns.heatmap(cm/np.sum(cm), annot=True, ax = ax, cmap = 'Blues', fmt = '.1%')\n",
    "matrix.set_title('Rock Paper Scissors CNN Confusion Matrix')\n",
    "matrix.set_xlabel('Predicted')\n",
    "matrix.set_xticklabels(['Paper','Rock', 'Scissors'])\n",
    "matrix.set_ylabel('Actual')\n",
    "matrix.set_yticklabels(['Paper','Rock', 'Scissors'])"
   ]
  }
 ],
 "metadata": {
  "kernelspec": {
   "display_name": "Python 3",
   "language": "python",
   "name": "python3"
  },
  "language_info": {
   "codemirror_mode": {
    "name": "ipython",
    "version": 3
   },
   "file_extension": ".py",
   "mimetype": "text/x-python",
   "name": "python",
   "nbconvert_exporter": "python",
   "pygments_lexer": "ipython3",
   "version": "3.7.6"
  }
 },
 "nbformat": 4,
 "nbformat_minor": 4
}
